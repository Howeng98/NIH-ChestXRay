{
 "metadata": {
  "language_info": {
   "codemirror_mode": {
    "name": "ipython",
    "version": 3
   },
   "file_extension": ".py",
   "mimetype": "text/x-python",
   "name": "python",
   "nbconvert_exporter": "python",
   "pygments_lexer": "ipython3",
   "version": 3
  },
  "orig_nbformat": 2
 },
 "nbformat": 4,
 "nbformat_minor": 2,
 "cells": [
  {
   "cell_type": "code",
   "execution_count": 2,
   "metadata": {},
   "outputs": [],
   "source": [
    "import numpy as np\n",
    "import pandas as pd\n",
    "import os\n",
    "import cv2\n",
    "\n",
    "labels = [\n",
    "    'Atelectasis', \n",
    "    'Cardiomegaly', \n",
    "    'Consolidation',\n",
    "    'Edema', \n",
    "    'Effusion', \n",
    "    'Emphysema',\n",
    "    'Fibrosis', \n",
    "    'Infiltration', \n",
    "    'Hernia', \n",
    "    'Mass',\n",
    "    'Nodule', \n",
    "    'Pleural_Thickening', \n",
    "    'Pneumonia', \n",
    "    'Pneumothorax']\n",
    "for label in labels:\n",
    "    os.makedirs('Output/'+label)"
   ]
  },
  {
   "cell_type": "code",
   "execution_count": null,
   "metadata": {},
   "outputs": [],
   "source": [
    "df = pd.read_csv('BBox_List_2017.csv')\n",
    "df1 = pd.DataFrame()\n",
    "df.head()t"
   ]
  }
 ]
}