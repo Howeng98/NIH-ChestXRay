{
 "metadata": {
  "language_info": {
   "codemirror_mode": {
    "name": "ipython",
    "version": 3
   },
   "file_extension": ".py",
   "mimetype": "text/x-python",
   "name": "python",
   "nbconvert_exporter": "python",
   "pygments_lexer": "ipython3",
   "version": "3.8.5-final"
  },
  "orig_nbformat": 2,
  "kernelspec": {
   "name": "python38264bitd10d69173dc449f082e67b84f9a4bedb",
   "display_name": "Python 3.8.2 64-bit",
   "language": "python"
  }
 },
 "nbformat": 4,
 "nbformat_minor": 2,
 "cells": [
  {
   "cell_type": "code",
   "execution_count": 1,
   "metadata": {},
   "outputs": [],
   "source": [
    "import numpy as np\n",
    "import pandas as pd\n",
    "import os\n",
    "import cv2\n",
    "\n",
    "labels = [\n",
    "    'Atelectasis', \n",
    "    'Cardiomegaly', \n",
    "    'Consolidation',\n",
    "    'Edema', \n",
    "    'Effusion', \n",
    "    'Emphysema',\n",
    "    'Fibrosis', \n",
    "    'Infiltration', \n",
    "    'Hernia', \n",
    "    'Mass',\n",
    "    'Nodule', \n",
    "    'Pleural_Thickening', \n",
    "    'Pneumonia', \n",
    "    'Pneumothorax']\n",
    "for label in labels:\n",
    "    if not os.path.exists('Output/'+label):        \n",
    "        os.makedirs('Output/'+label)"
   ]
  },
  {
   "cell_type": "code",
   "execution_count": 2,
   "metadata": {},
   "outputs": [
    {
     "output_type": "stream",
     "name": "stdout",
     "text": [
      "<class 'str'>\n"
     ]
    }
   ],
   "source": [
    "df = pd.read_csv('BBox_List_2017.csv')\n",
    "df1 = pd.DataFrame()\n",
    "df1['image_path'] = df['Image Index']\n",
    "df1.head()\n",
    "print(type(df1['image_path'][1]))"
   ]
  },
  {
   "cell_type": "code",
   "execution_count": 4,
   "metadata": {
    "tags": []
   },
   "outputs": [
    {
     "output_type": "stream",
     "name": "stdout",
     "text": [
      "171\n"
     ]
    }
   ],
   "source": [
    "dataset_path = 'dataset'\n",
    "dataset_path_list = []\n",
    "folder = os.listdir(dataset_path)\n",
    "for entries in folder:\n",
    "    p = os.path.join(dataset_path,entries)\n",
    "    f = os.listdir(p)\n",
    "    for entry in f:\n",
    "        # print(entry)\n",
    "        if entry in df1.values:\n",
    "            dataset_path_list.append(os.path.join(p,entry))\n",
    "print(len(dataset_path_list))\n"
   ]
  },
  {
   "cell_type": "code",
   "execution_count": 17,
   "metadata": {
    "tags": []
   },
   "outputs": [],
   "source": [
    "if not os.path.exists('new_dataset'):        \n",
    "        os.makedirs('new_dataset')\n",
    "\n",
    "for idx in range(len(dataset_path_list)):\n",
    "    # path = dataset_path_list[idx]\n",
    "    # print(path[-16:])\n",
    "    img = cv2.imread(dataset_path_list[idx],0)\n",
    "    cv2.imwrite('new_dataset/'+str(dataset_path_list[idx][-16:]), img)"
   ]
  },
  {
   "cell_type": "code",
   "execution_count": null,
   "metadata": {},
   "outputs": [],
   "source": []
  }
 ]
}